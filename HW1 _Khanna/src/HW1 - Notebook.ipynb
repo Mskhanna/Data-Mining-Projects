{
 "cells": [
  {
   "cell_type": "code",
   "execution_count": 1,
   "metadata": {},
   "outputs": [],
   "source": [
    "import pandas as pd\n",
    "import numpy as np\n",
    "import matplotlib.pyplot as plt\n",
    "from sklearn.preprocessing import LabelEncoder\n",
    "from nltk.corpus import stopwords\n",
    "from nltk.stem import PorterStemmer\n",
    "import re #Regular Expressions"
   ]
  },
  {
   "cell_type": "code",
   "execution_count": 163,
   "metadata": {},
   "outputs": [
    {
     "name": "stderr",
     "output_type": "stream",
     "text": [
      "[nltk_data] Downloading package wordnet to\n",
      "[nltk_data]     C:\\Users\\2manu\\AppData\\Roaming\\nltk_data...\n",
      "[nltk_data]   Package wordnet is already up-to-date!\n"
     ]
    }
   ],
   "source": [
    "import nltk\n",
    "nltk.download('wordnet')\n",
    "from nltk.stem import WordNetLemmatizer"
   ]
  },
  {
   "cell_type": "code",
   "execution_count": 175,
   "metadata": {},
   "outputs": [],
   "source": [
    "import matplotlib as plt\n",
    "import matplotlib.pyplot as plt"
   ]
  },
  {
   "cell_type": "code",
   "execution_count": 208,
   "metadata": {},
   "outputs": [],
   "source": [
    "df = pd.read_csv(\"C:/Users/2manu/HW1/Train.csv\", sep = \"#EOF\", engine = 'python', header = None)"
   ]
  },
  {
   "cell_type": "code",
   "execution_count": 6,
   "metadata": {},
   "outputs": [],
   "source": [
    "tf = pd.read_csv(\"C:/Users/2manu/HW1/Test.csv\", sep = \"#EOF\", engine = 'python', header = None)"
   ]
  },
  {
   "cell_type": "code",
   "execution_count": 9,
   "metadata": {},
   "outputs": [
    {
     "data": {
      "text/html": [
       "<div>\n",
       "<style scoped>\n",
       "    .dataframe tbody tr th:only-of-type {\n",
       "        vertical-align: middle;\n",
       "    }\n",
       "\n",
       "    .dataframe tbody tr th {\n",
       "        vertical-align: top;\n",
       "    }\n",
       "\n",
       "    .dataframe thead th {\n",
       "        text-align: right;\n",
       "    }\n",
       "</style>\n",
       "<table border=\"1\" class=\"dataframe\">\n",
       "  <thead>\n",
       "    <tr style=\"text-align: right;\">\n",
       "      <th></th>\n",
       "      <th>0</th>\n",
       "      <th>1</th>\n",
       "    </tr>\n",
       "  </thead>\n",
       "  <tbody>\n",
       "    <tr>\n",
       "      <th>0</th>\n",
       "      <td>+1\\tOne of my all-time favorite so-laughably-l...</td>\n",
       "      <td>NaN</td>\n",
       "    </tr>\n",
       "    <tr>\n",
       "      <th>1</th>\n",
       "      <td>-1\\tI had high hopes for this film, because I ...</td>\n",
       "      <td>NaN</td>\n",
       "    </tr>\n",
       "    <tr>\n",
       "      <th>2</th>\n",
       "      <td>-1\\tWhen this was released, I thought this was...</td>\n",
       "      <td>NaN</td>\n",
       "    </tr>\n",
       "    <tr>\n",
       "      <th>3</th>\n",
       "      <td>-1\\tI just watched this movie on Starz. Let me...</td>\n",
       "      <td>NaN</td>\n",
       "    </tr>\n",
       "    <tr>\n",
       "      <th>4</th>\n",
       "      <td>+1\\tI loved it so much that I bought the DVD a...</td>\n",
       "      <td>NaN</td>\n",
       "    </tr>\n",
       "    <tr>\n",
       "      <th>...</th>\n",
       "      <td>...</td>\n",
       "      <td>...</td>\n",
       "    </tr>\n",
       "    <tr>\n",
       "      <th>24995</th>\n",
       "      <td>+1\\tIt was a doubly interesting experience. Fo...</td>\n",
       "      <td>NaN</td>\n",
       "    </tr>\n",
       "    <tr>\n",
       "      <th>24996</th>\n",
       "      <td>-1\\tWow what a great premise for a film : Set ...</td>\n",
       "      <td>NaN</td>\n",
       "    </tr>\n",
       "    <tr>\n",
       "      <th>24997</th>\n",
       "      <td>-1\\tA lot of death happens in the wild. You do...</td>\n",
       "      <td>NaN</td>\n",
       "    </tr>\n",
       "    <tr>\n",
       "      <th>24998</th>\n",
       "      <td>+1\\tCorean cinema can be quite surprising for ...</td>\n",
       "      <td>NaN</td>\n",
       "    </tr>\n",
       "    <tr>\n",
       "      <th>24999</th>\n",
       "      <td>+1\\tRunning Man isn't a great movie, in fact i...</td>\n",
       "      <td>NaN</td>\n",
       "    </tr>\n",
       "  </tbody>\n",
       "</table>\n",
       "<p>25000 rows × 2 columns</p>\n",
       "</div>"
      ],
      "text/plain": [
       "                                                       0   1\n",
       "0      +1\\tOne of my all-time favorite so-laughably-l... NaN\n",
       "1      -1\\tI had high hopes for this film, because I ... NaN\n",
       "2      -1\\tWhen this was released, I thought this was... NaN\n",
       "3      -1\\tI just watched this movie on Starz. Let me... NaN\n",
       "4      +1\\tI loved it so much that I bought the DVD a... NaN\n",
       "...                                                  ...  ..\n",
       "24995  +1\\tIt was a doubly interesting experience. Fo... NaN\n",
       "24996  -1\\tWow what a great premise for a film : Set ... NaN\n",
       "24997  -1\\tA lot of death happens in the wild. You do... NaN\n",
       "24998  +1\\tCorean cinema can be quite surprising for ... NaN\n",
       "24999  +1\\tRunning Man isn't a great movie, in fact i... NaN\n",
       "\n",
       "[25000 rows x 2 columns]"
      ]
     },
     "execution_count": 9,
     "metadata": {},
     "output_type": "execute_result"
    }
   ],
   "source": [
    "df"
   ]
  },
  {
   "cell_type": "code",
   "execution_count": 219,
   "metadata": {},
   "outputs": [
    {
     "data": {
      "text/html": [
       "<div>\n",
       "<style scoped>\n",
       "    .dataframe tbody tr th:only-of-type {\n",
       "        vertical-align: middle;\n",
       "    }\n",
       "\n",
       "    .dataframe tbody tr th {\n",
       "        vertical-align: top;\n",
       "    }\n",
       "\n",
       "    .dataframe thead th {\n",
       "        text-align: right;\n",
       "    }\n",
       "</style>\n",
       "<table border=\"1\" class=\"dataframe\">\n",
       "  <thead>\n",
       "    <tr style=\"text-align: right;\">\n",
       "      <th></th>\n",
       "      <th>0</th>\n",
       "      <th>1</th>\n",
       "    </tr>\n",
       "  </thead>\n",
       "  <tbody>\n",
       "    <tr>\n",
       "      <th>0</th>\n",
       "      <td>This is a very low budget film, set in one loc...</td>\n",
       "      <td>NaN</td>\n",
       "    </tr>\n",
       "    <tr>\n",
       "      <th>1</th>\n",
       "      <td>One minute into THE UNTOLD and it`s already ri...</td>\n",
       "      <td>NaN</td>\n",
       "    </tr>\n",
       "    <tr>\n",
       "      <th>2</th>\n",
       "      <td>I recently purchased this on DVD as I hadn't h...</td>\n",
       "      <td>NaN</td>\n",
       "    </tr>\n",
       "    <tr>\n",
       "      <th>3</th>\n",
       "      <td>Some people have the ability to use only 3 neu...</td>\n",
       "      <td>NaN</td>\n",
       "    </tr>\n",
       "    <tr>\n",
       "      <th>4</th>\n",
       "      <td>As I've said in the title of this review, It p...</td>\n",
       "      <td>NaN</td>\n",
       "    </tr>\n",
       "    <tr>\n",
       "      <th>...</th>\n",
       "      <td>...</td>\n",
       "      <td>...</td>\n",
       "    </tr>\n",
       "    <tr>\n",
       "      <th>24995</th>\n",
       "      <td>This movie looked like the out-takes of the de...</td>\n",
       "      <td>NaN</td>\n",
       "    </tr>\n",
       "    <tr>\n",
       "      <th>24996</th>\n",
       "      <td>This is one of my three all-time favorite movi...</td>\n",
       "      <td>NaN</td>\n",
       "    </tr>\n",
       "    <tr>\n",
       "      <th>24997</th>\n",
       "      <td>Most families will recognise similarities betw...</td>\n",
       "      <td>NaN</td>\n",
       "    </tr>\n",
       "    <tr>\n",
       "      <th>24998</th>\n",
       "      <td>I stumbled upon this movie by accident. I mean...</td>\n",
       "      <td>NaN</td>\n",
       "    </tr>\n",
       "    <tr>\n",
       "      <th>24999</th>\n",
       "      <td>a scarily real drama, there isn't another dram...</td>\n",
       "      <td>NaN</td>\n",
       "    </tr>\n",
       "  </tbody>\n",
       "</table>\n",
       "<p>25000 rows × 2 columns</p>\n",
       "</div>"
      ],
      "text/plain": [
       "                                                       0   1\n",
       "0      This is a very low budget film, set in one loc... NaN\n",
       "1      One minute into THE UNTOLD and it`s already ri... NaN\n",
       "2      I recently purchased this on DVD as I hadn't h... NaN\n",
       "3      Some people have the ability to use only 3 neu... NaN\n",
       "4      As I've said in the title of this review, It p... NaN\n",
       "...                                                  ...  ..\n",
       "24995  This movie looked like the out-takes of the de... NaN\n",
       "24996  This is one of my three all-time favorite movi... NaN\n",
       "24997  Most families will recognise similarities betw... NaN\n",
       "24998  I stumbled upon this movie by accident. I mean... NaN\n",
       "24999  a scarily real drama, there isn't another dram... NaN\n",
       "\n",
       "[25000 rows x 2 columns]"
      ]
     },
     "execution_count": 219,
     "metadata": {},
     "output_type": "execute_result"
    }
   ],
   "source": [
    "tf"
   ]
  },
  {
   "cell_type": "code",
   "execution_count": 7,
   "metadata": {},
   "outputs": [],
   "source": [
    "tf.columns = ['Review', 'del']"
   ]
  },
  {
   "cell_type": "code",
   "execution_count": 8,
   "metadata": {},
   "outputs": [],
   "source": [
    "test = tf['Review']"
   ]
  },
  {
   "cell_type": "code",
   "execution_count": 209,
   "metadata": {},
   "outputs": [],
   "source": [
    "Score=[]\n",
    "Rev=[]\n",
    "\n",
    "for i in range (0,len(df)):\n",
    "    j = df.loc[i][0]\n",
    "    split = j.split(\"\\t\")\n",
    "    Score.append(split[0])\n",
    "    Rev.append(split[1])\n",
    "\n",
    "Bag = {\"Score\": Score, \"Reviews\": Rev}\n",
    "df = pd.DataFrame(Bag)"
   ]
  },
  {
   "cell_type": "code",
   "execution_count": 210,
   "metadata": {},
   "outputs": [
    {
     "data": {
      "text/html": [
       "<div>\n",
       "<style scoped>\n",
       "    .dataframe tbody tr th:only-of-type {\n",
       "        vertical-align: middle;\n",
       "    }\n",
       "\n",
       "    .dataframe tbody tr th {\n",
       "        vertical-align: top;\n",
       "    }\n",
       "\n",
       "    .dataframe thead th {\n",
       "        text-align: right;\n",
       "    }\n",
       "</style>\n",
       "<table border=\"1\" class=\"dataframe\">\n",
       "  <thead>\n",
       "    <tr style=\"text-align: right;\">\n",
       "      <th></th>\n",
       "      <th>Score</th>\n",
       "      <th>Reviews</th>\n",
       "    </tr>\n",
       "  </thead>\n",
       "  <tbody>\n",
       "    <tr>\n",
       "      <th>0</th>\n",
       "      <td>+1</td>\n",
       "      <td>One of my all-time favorite so-laughably-lousy...</td>\n",
       "    </tr>\n",
       "    <tr>\n",
       "      <th>1</th>\n",
       "      <td>-1</td>\n",
       "      <td>I had high hopes for this film, because I thou...</td>\n",
       "    </tr>\n",
       "    <tr>\n",
       "      <th>2</th>\n",
       "      <td>-1</td>\n",
       "      <td>When this was released, I thought this was one...</td>\n",
       "    </tr>\n",
       "    <tr>\n",
       "      <th>3</th>\n",
       "      <td>-1</td>\n",
       "      <td>I just watched this movie on Starz. Let me go ...</td>\n",
       "    </tr>\n",
       "    <tr>\n",
       "      <th>4</th>\n",
       "      <td>+1</td>\n",
       "      <td>I loved it so much that I bought the DVD and t...</td>\n",
       "    </tr>\n",
       "    <tr>\n",
       "      <th>...</th>\n",
       "      <td>...</td>\n",
       "      <td>...</td>\n",
       "    </tr>\n",
       "    <tr>\n",
       "      <th>24995</th>\n",
       "      <td>+1</td>\n",
       "      <td>It was a doubly interesting experience. For so...</td>\n",
       "    </tr>\n",
       "    <tr>\n",
       "      <th>24996</th>\n",
       "      <td>-1</td>\n",
       "      <td>Wow what a great premise for a film : Set it a...</td>\n",
       "    </tr>\n",
       "    <tr>\n",
       "      <th>24997</th>\n",
       "      <td>-1</td>\n",
       "      <td>A lot of death happens in the wild. You don't ...</td>\n",
       "    </tr>\n",
       "    <tr>\n",
       "      <th>24998</th>\n",
       "      <td>+1</td>\n",
       "      <td>Corean cinema can be quite surprising for an o...</td>\n",
       "    </tr>\n",
       "    <tr>\n",
       "      <th>24999</th>\n",
       "      <td>+1</td>\n",
       "      <td>Running Man isn't a great movie, in fact it's ...</td>\n",
       "    </tr>\n",
       "  </tbody>\n",
       "</table>\n",
       "<p>25000 rows × 2 columns</p>\n",
       "</div>"
      ],
      "text/plain": [
       "      Score                                            Reviews\n",
       "0        +1  One of my all-time favorite so-laughably-lousy...\n",
       "1        -1  I had high hopes for this film, because I thou...\n",
       "2        -1  When this was released, I thought this was one...\n",
       "3        -1  I just watched this movie on Starz. Let me go ...\n",
       "4        +1  I loved it so much that I bought the DVD and t...\n",
       "...     ...                                                ...\n",
       "24995    +1  It was a doubly interesting experience. For so...\n",
       "24996    -1  Wow what a great premise for a film : Set it a...\n",
       "24997    -1  A lot of death happens in the wild. You don't ...\n",
       "24998    +1  Corean cinema can be quite surprising for an o...\n",
       "24999    +1  Running Man isn't a great movie, in fact it's ...\n",
       "\n",
       "[25000 rows x 2 columns]"
      ]
     },
     "execution_count": 210,
     "metadata": {},
     "output_type": "execute_result"
    }
   ],
   "source": [
    "df"
   ]
  },
  {
   "cell_type": "code",
   "execution_count": null,
   "metadata": {},
   "outputs": [],
   "source": []
  },
  {
   "cell_type": "code",
   "execution_count": 13,
   "metadata": {},
   "outputs": [
    {
     "data": {
      "text/plain": [
       "Index(['Score', 'Reviews'], dtype='object')"
      ]
     },
     "execution_count": 13,
     "metadata": {},
     "output_type": "execute_result"
    }
   ],
   "source": [
    "df.columns"
   ]
  },
  {
   "cell_type": "code",
   "execution_count": 214,
   "metadata": {},
   "outputs": [
    {
     "data": {
      "text/plain": [
       "-1    12500\n",
       "+1    12500\n",
       "Name: Score, dtype: int64"
      ]
     },
     "execution_count": 214,
     "metadata": {},
     "output_type": "execute_result"
    }
   ],
   "source": [
    "plot = df['Score'].value_counts()\n",
    "\n",
    "plot"
   ]
  },
  {
   "cell_type": "code",
   "execution_count": 216,
   "metadata": {},
   "outputs": [
    {
     "data": {
      "image/png": "[encoded data removed]",
      "text/plain": [
       "<Figure size 432x288 with 1 Axes>"
      ]
     },
     "metadata": {
      "needs_background": "light"
     },
     "output_type": "display_data"
    }
   ],
   "source": [
    "fig = plt.figure()\n",
    "ax = fig.add_axes([0,0,1,1])\n",
    "Reviews = ['Negative', 'Positive']\n",
    "Num = [plot[-1], plot[+1]]\n",
    "ax.bar(Reviews,Num)\n",
    "plt.show()"
   ]
  },
  {
   "cell_type": "code",
   "execution_count": 12,
   "metadata": {},
   "outputs": [
    {
     "name": "stdout",
     "output_type": "stream",
     "text": [
      "   Score                                            Reviews\n",
      "26    +1  Eddie Murphy Delirious is undoubtedly the funn...\n"
     ]
    }
   ],
   "source": [
    "print(df.iloc[[26]]) #.loc didn't work"
   ]
  },
  {
   "cell_type": "code",
   "execution_count": null,
   "metadata": {},
   "outputs": [],
   "source": []
  },
  {
   "cell_type": "code",
   "execution_count": 14,
   "metadata": {},
   "outputs": [],
   "source": [
    "le = LabelEncoder()"
   ]
  },
  {
   "cell_type": "code",
   "execution_count": 15,
   "metadata": {},
   "outputs": [],
   "source": [
    "y = df['Score'].values #to convert pandas form into numpy array"
   ]
  },
  {
   "cell_type": "code",
   "execution_count": 16,
   "metadata": {},
   "outputs": [
    {
     "data": {
      "text/plain": [
       "array(['+1', '-1', '-1', ..., '-1', '+1', '+1'], dtype=object)"
      ]
     },
     "execution_count": 16,
     "metadata": {},
     "output_type": "execute_result"
    }
   ],
   "source": [
    "y"
   ]
  },
  {
   "cell_type": "code",
   "execution_count": 17,
   "metadata": {},
   "outputs": [],
   "source": [
    "Y = le.fit_transform(y) #pos 1 = 1; neg 1 = 0"
   ]
  },
  {
   "cell_type": "code",
   "execution_count": 18,
   "metadata": {},
   "outputs": [
    {
     "data": {
      "text/plain": [
       "array([0, 1, 1, ..., 1, 0, 0])"
      ]
     },
     "execution_count": 18,
     "metadata": {},
     "output_type": "execute_result"
    }
   ],
   "source": [
    "Y"
   ]
  },
  {
   "cell_type": "code",
   "execution_count": 19,
   "metadata": {},
   "outputs": [],
   "source": [
    "Y_f = 1 - Y"
   ]
  },
  {
   "cell_type": "code",
   "execution_count": 20,
   "metadata": {},
   "outputs": [
    {
     "data": {
      "text/plain": [
       "array([1, 0, 0, ..., 0, 1, 1])"
      ]
     },
     "execution_count": 20,
     "metadata": {},
     "output_type": "execute_result"
    }
   ],
   "source": [
    "Y_f"
   ]
  },
  {
   "cell_type": "code",
   "execution_count": 21,
   "metadata": {},
   "outputs": [
    {
     "data": {
      "text/plain": [
       "array([1, 0, 0, 0, 1, 1, 1, 1, 0, 0, 0, 0, 0, 0, 1, 1, 1, 0, 0, 1, 1, 1,\n",
       "       0, 1, 0, 1, 1, 1, 1, 1, 0, 0, 1, 0, 0, 0, 0, 0, 0, 1, 0, 1, 1, 1,\n",
       "       0, 0, 1, 1, 1, 1])"
      ]
     },
     "execution_count": 21,
     "metadata": {},
     "output_type": "execute_result"
    }
   ],
   "source": [
    "Y_f[:50]"
   ]
  },
  {
   "cell_type": "code",
   "execution_count": 22,
   "metadata": {},
   "outputs": [
    {
     "data": {
      "text/plain": [
       "'This movie is terrible. TERRIBLE. One of the worst movies ever. I cannot even imagine Gigli being worse that this. Previews made us say \"NO\", but then looking for something amid the dreck out there right now, we decided to go ahead and give it a shot.<br /><br />STUPID US.<br /><br />Affleck is NOT an actor. He\\'s an image and can look good with explosions, but not even the kind Bruce Willis got in \"Die Hard\". If he stripped his shirt and ran around fighting bad guys, it would be a comedy.<br /><br />The best part was Catherine O\\'Hara -- she\\'s always good. Gandolfini flops again (if it weren\\'t for The Sopranos, he\\'d be washed up) like he did in \"The Mexican\".<br /><br />Affleck hogs every scene and as others have said -- no character has any motivation whatsoever for their actions. <br /><br />AVOID THIS MOVIE AT ALL COSTS. '"
      ]
     },
     "execution_count": 22,
     "metadata": {},
     "output_type": "execute_result"
    }
   ],
   "source": [
    "df['Reviews'][9]"
   ]
  },
  {
   "cell_type": "code",
   "execution_count": 23,
   "metadata": {},
   "outputs": [],
   "source": [
    "stws = stopwords.words('english') #py -3.7 -m pip install nltk"
   ]
  },
  {
   "cell_type": "code",
   "execution_count": 24,
   "metadata": {},
   "outputs": [],
   "source": [
    "ps = PorterStemmer() #this will preprocess the data"
   ]
  },
  {
   "cell_type": "code",
   "execution_count": 25,
   "metadata": {},
   "outputs": [],
   "source": [
    "lt = WordNetLemmatizer()"
   ]
  },
  {
   "cell_type": "code",
   "execution_count": 26,
   "metadata": {},
   "outputs": [],
   "source": [
    "def cleaned_rev_joined_stem(sample): #sample as it can be any random review/text\n",
    "    sample = sample.lower()\n",
    "    sample = sample.replace(\"<br /><br />\", \"\")\n",
    "    sample = re.sub(\"[^a-zA-jZ]+\",\" \", sample)\n",
    "    sample = sample.split() #split(\" \") default split by space\n",
    "    \n",
    "    sample = [ps.stem(s) for s in sample if s not in stws] #list comprehension with stemming\n",
    "    sample = [lt.lemmatize(i) for i in sample]\n",
    "    #sample = [s for s in sample if s not in stws] #list comprehension without stemming\n",
    "    \n",
    "    sample = \" \".join(sample)\n",
    "    \n",
    "    return sample"
   ]
  },
  {
   "cell_type": "code",
   "execution_count": 217,
   "metadata": {},
   "outputs": [],
   "source": [
    "#df['Prep_Review'] = df['Reviews'].apply(cleaned_rev_joined_stem)"
   ]
  },
  {
   "cell_type": "code",
   "execution_count": 29,
   "metadata": {},
   "outputs": [
    {
     "name": "stderr",
     "output_type": "stream",
     "text": [
      "<ipython-input-29-c873f4553654>:1: SettingWithCopyWarning: \n",
      "A value is trying to be set on a copy of a slice from a DataFrame\n",
      "\n",
      "See the caveats in the documentation: https://pandas.pydata.org/pandas-docs/stable/user_guide/indexing.html#returning-a-view-versus-a-copy\n",
      "  test['Prep_Review'] = test.apply(cleaned_rev_joined_stem)\n"
     ]
    }
   ],
   "source": [
    "test['Prep_Review'] = test.apply(cleaned_rev_joined_stem)"
   ]
  },
  {
   "cell_type": "code",
   "execution_count": 34,
   "metadata": {},
   "outputs": [],
   "source": [
    "train_bag = df['Prep_Review'].values #.value converts it into numpy from pandas"
   ]
  },
  {
   "cell_type": "code",
   "execution_count": 35,
   "metadata": {},
   "outputs": [
    {
     "data": {
      "text/plain": [
       "array(['one time favorit laughabl lousi total lovabl el cheapo stinko nickel n dime independ horror creatur featur enjoy dread marvel releas formid fecund exploit outfit crown intern pictur could play numer crappi doubl bill countless drive in back eventu wound rerun like crazi sever small time secondari cabl station throughout natur first saw glorious ghastli abomin late night televis one fate saturday even earli teen deep seat albeit complet irrat abid fond ever sinc meteorit fall sky crash still water tranquil countri lake therebi caus heretofor dormant dinosaur egg hatch cours babi dino immedi grow gigant waddl grunt teeth gnash prehistor behemoth goofi flipper extend neck huge mouth full littl sharp jag stalagmit like chomper southern fri male cousin loch ness monster promptli start chow variou luckless local yokel resid previous quiet sleepi hillbilli resort town drippi stalwart sheriff richard cardella assist pain idiot hayse comic relief brotherli fish guid duo glenn robert mark seigel feisti gal pal kacey cobb termin insipid nerdi scientist bob hyman get bottom thing size glutton jurass throwback ruin tourist trade eat camper fisherman hick hamlet make cash director co screenwrit william r stromberg display wonder woeful thoroughli clueless incompet come pace atmospher taut narr construct especi elicit sound credibl act hopelessli thumb rank amateur commun theater level cast perform uniformli abysm cardella way bland wooden cut solid heroic lead piti dopey redneck comic antic robert seigel provok groan slack jaw disbelief laugh two atroci mug clod much particularli insuffer imbecil discov sever head bob murki lake water better yet clumsili integr sub plot concern viciou loo crimin lead spectacularli ham fist supermarket hold scene degener hilari stupid mini massacr young ladi shopper interrupt stick artist mid robberi subsequ car chase likewis sever bungl well limpli stage unimpress one feel reliev scare monster abruptli pop devour nefari fugit moreov david allen funki herki jerki stop motion anim dinosaur authent gnarli articl project certain raw charisma sneaki reptilian person overal forc screen presenc make horrend underwhelm human charact seem like pathet unbecom nobodi bore comparison rous conclus sheriff take slaver beasti bulldoz oper word thrill confront boffo way',\n",
       "       'high hope film thought clean shaven kerrigan first featur absolut terrif assuredli cinemat low budget film ever seen much clair dolan utterli pointless flat scene scene seem randomli toss mix without much thought narr charact clair tri escap prostitut hard tell pick trick airport want escap life pick trick need money seattl see dye hair virtual exact color clair accept john other filmmak seem know feel everyth improvis though understand case filmmak held camera make verit documentari screen saw kerrigan defend lack narr choic condemn film narr polit conserv sound like learn rhetor think cop sadden maker film excit clean shaven would go make lame film one defend tire old polit clich',\n",
       "       'releas thought one profan film ever made howev thank martin scorces filmmak like mainlin film wors languag wise pretti brutal assault one ear hey take lot got ridicul first six minut alon heard half dozen usag lord name vain plu untold number f word wonder mani peopl walk theater watch one surprisingli featur actor includ jennif jason leigh burt young jerri orbach rikki lake sinc film stephen lang seem improv imag least play godli stonewal jackson god gener lang role opposit perhap worst trashi person film charact fall love transvestit end film depress gloomi semi pornograph repuls adject peopl use even liber critic describ stori paint even wors novel cours better known critic extrem lib prais movi howev one critic disgust well almost pay public unbeliev anyon could prais filth garbag like trust good likabl charact entir movi mean sick film one worst modern era unless enjoy see child abus drug abus teen prostitut two straight hour noth atroc plain evil peopl thank',\n",
       "       ...,\n",
       "       'lot death happen wild need rocket scientist figur need focu natur documentari fascin gruesom death realli see adult eleph torn shred pack hungri lion cheetah grab gazel throat slow motion le thought go famili friendli natur film courag show gruesom violenc film trailer filmmak afraid lose money typic comic relief fashion get see magnific bird paradis perform mate ritual annoy stupid narrat humanli possibl surreal filmmak believ address room first second grader school field trip wow mean moron heartbeat futur natur documentari filmmak wait wing read film review focu anim actual copul give birth lay egg bath sleep clean social play emot display fear anger unusu behavior like mouth brood migrat problem solv skill cultur ye mani anim speci human call cultur commun skill parent heal abil etc word stop focus violenc dumb beauti much well round focu delight inspir instead',\n",
       "       'corean cinema quit surpris occident audienc multipl tone genr find movi coreen drama secret sunshin also find comic part thriller scene romant time tragedi life also tragic comedi say one point movi charact interpret song kang ho sum mixtur pictur get wrong heterogen genr movi deal add verac experi rich movi offer spectat mean lack uniti contrari rare see den profound portrait woman pain shin ae quest quiet life son nativ town late husband realli give differ face suffer go uniti movi realist part era psycholog descript phase poor mother go denial lost anger faith pert realiti movi fallow step charact cross look like psycholog catalog suffer phase woman experi thing accept may look like conceptu experi woman wear mask tragedi man repres comic interlud let artific movi touch must say part movi realli move especiali begin particularli concern unabl chang joan truli help one love also accumul suffer emot tire toward end nevertheless cinematograph idea realli breathtak surpris scene bodi discov larg shot instanc amaz kind scene make secret sunshin melo equival host horror movi memori murder thriller movi inde surpris origin aesthet incred manag give anoth dimens genr deal thing secret sunshin forget host forgot scari make audienc cri bad point melodrama good point good film',\n",
       "       'run man great movi fact kinda silli deliv want arni movi action entertain see anyon enjoy pictur silli top almost make fun way probabl one quotabl arni movi'],\n",
       "      dtype=object)"
      ]
     },
     "execution_count": 35,
     "metadata": {},
     "output_type": "execute_result"
    }
   ],
   "source": [
    "train_bag"
   ]
  },
  {
   "cell_type": "code",
   "execution_count": 35,
   "metadata": {},
   "outputs": [],
   "source": [
    "test_bag = test['Prep_Review'].values"
   ]
  },
  {
   "cell_type": "code",
   "execution_count": null,
   "metadata": {},
   "outputs": [],
   "source": []
  },
  {
   "cell_type": "code",
   "execution_count": 29,
   "metadata": {},
   "outputs": [],
   "source": [
    "from sklearn.feature_extraction.text import TfidfVectorizer "
   ]
  },
  {
   "cell_type": "code",
   "execution_count": 30,
   "metadata": {},
   "outputs": [],
   "source": [
    "tfidf = TfidfVectorizer()"
   ]
  },
  {
   "cell_type": "code",
   "execution_count": 38,
   "metadata": {},
   "outputs": [],
   "source": [
    "X_train_tfidf = tfidf.fit_transform(train_bag)"
   ]
  },
  {
   "cell_type": "code",
   "execution_count": 39,
   "metadata": {},
   "outputs": [],
   "source": [
    "X_test_tfidf = tfidf.transform(test_bag)"
   ]
  },
  {
   "cell_type": "code",
   "execution_count": 41,
   "metadata": {},
   "outputs": [
    {
     "data": {
      "text/plain": [
       "<25000x70976 sparse matrix of type '<class 'numpy.float64'>'\n",
       "\twith 2341492 stored elements in Compressed Sparse Row format>"
      ]
     },
     "execution_count": 41,
     "metadata": {},
     "output_type": "execute_result"
    }
   ],
   "source": []
  },
  {
   "cell_type": "code",
   "execution_count": 42,
   "metadata": {},
   "outputs": [
    {
     "data": {
      "text/plain": [
       "<25000x70976 sparse matrix of type '<class 'numpy.float64'>'\n",
       "\twith 2293999 stored elements in Compressed Sparse Row format>"
      ]
     },
     "execution_count": 42,
     "metadata": {},
     "output_type": "execute_result"
    }
   ],
   "source": [
    "X_test_tfidf"
   ]
  },
  {
   "cell_type": "markdown",
   "metadata": {},
   "source": [
    "Cosine Similarity"
   ]
  },
  {
   "cell_type": "code",
   "execution_count": 42,
   "metadata": {},
   "outputs": [],
   "source": [
    "from sklearn.metrics.pairwise import cosine_similarity"
   ]
  },
  {
   "cell_type": "code",
   "execution_count": 44,
   "metadata": {},
   "outputs": [],
   "source": [
    "cs = cosine_similarity(X_test_tfidf, X_train_wt)"
   ]
  },
  {
   "cell_type": "code",
   "execution_count": 45,
   "metadata": {},
   "outputs": [
    {
     "data": {
      "text/plain": [
       "array([[0.02456665, 0.04573063, 0.0396872 , ..., 0.03987518, 0.0541265 ,\n",
       "        0.04621835],\n",
       "       [0.02218302, 0.0406358 , 0.1031707 , ..., 0.03802199, 0.0495488 ,\n",
       "        0.02724528],\n",
       "       [0.02598966, 0.01422231, 0.04292663, ..., 0.00684698, 0.05870772,\n",
       "        0.07401918],\n",
       "       ...,\n",
       "       [0.01531705, 0.02497788, 0.04454334, ..., 0.02766161, 0.0723699 ,\n",
       "        0.0198918 ],\n",
       "       [0.0445442 , 0.01788178, 0.05424373, ..., 0.03570718, 0.04258252,\n",
       "        0.03287905],\n",
       "       [0.02215335, 0.01695519, 0.02252441, ..., 0.02338865, 0.03734186,\n",
       "        0.01798841]])"
      ]
     },
     "execution_count": 45,
     "metadata": {},
     "output_type": "execute_result"
    }
   ],
   "source": [
    "cs"
   ]
  },
  {
   "cell_type": "markdown",
   "metadata": {},
   "source": [
    "KNN"
   ]
  },
  {
   "cell_type": "code",
   "execution_count": 203,
   "metadata": {},
   "outputs": [],
   "source": [
    "def KNN(var, k):\n",
    "   \n",
    "    return np.argsort(-var)[:k]\n",
    "     \n",
    "\n",
    "def predict(nearestNeighbors, labels):\n",
    "    \n",
    "    positiveReviewsCount = 0\n",
    "    negativeReviewsCount = 0\n",
    "    for neighbor in nearestNeighbors:\n",
    "        if int(labels[neighbor]) == 1:\n",
    "            positiveReviewsCount += 1\n",
    "        else:\n",
    "            negativeReviewsCount += 1\n",
    "    if positiveReviewsCount > negativeReviewsCount:\n",
    "        return 1\n",
    "    else:\n",
    "        return -1"
   ]
  },
  {
   "cell_type": "code",
   "execution_count": 47,
   "metadata": {},
   "outputs": [],
   "source": [
    "\n",
    "\n",
    "k = 143\n",
    "test_sentiments = list()\n",
    "\n",
    "for similarity in cs:\n",
    "    knn = KNN(similarity, k)\n",
    "    prediction = predict(knn, Y_f)\n",
    "    \n",
    "    #To write to the list as +1 instead of just a 1 for positive reviews\n",
    "    if prediction == 1:\n",
    "        test_sentiments.append('+1')\n",
    "    else:\n",
    "        test_sentiments.append('-1')"
   ]
  },
  {
   "cell_type": "code",
   "execution_count": 48,
   "metadata": {},
   "outputs": [],
   "source": [
    "#Write the result to a .dat file\n",
    "output = open('y_pred.dat', 'w')\n",
    "\n",
    "output.writelines( \"%s\\n\" % item for item in test_sentiments )\n",
    "\n",
    "output.close()"
   ]
  },
  {
   "cell_type": "markdown",
   "metadata": {},
   "source": [
    "# Test - Train split"
   ]
  },
  {
   "cell_type": "code",
   "execution_count": 32,
   "metadata": {},
   "outputs": [],
   "source": [
    "from sklearn.model_selection import train_test_split"
   ]
  },
  {
   "cell_type": "code",
   "execution_count": 36,
   "metadata": {},
   "outputs": [],
   "source": [
    "X_train, X_test, y_train, y_test = train_test_split(train_bag, Y_f, test_size = 0.2, random_state = 1)"
   ]
  },
  {
   "cell_type": "code",
   "execution_count": 37,
   "metadata": {},
   "outputs": [
    {
     "data": {
      "text/plain": [
       "array(['earth best movi funni realli sweet good plot uniqu like movi similar stori line comedi stori movi also good end',\n",
       "       'hindi movi buff sinc age never life watch move impact movi especi hindi film past sever year stop watch contemporari hindi movi revert watch classic teesri kasam mere huzoor madhumati mother india sholay etc movi chang everyth one best movi ever seen found move also found educ someon first gener indian woman grow america help understand famili histori alway someth abstract see feel understand help sympath gener struggl indian peopl endur film help put mani thing perspect especi consid current world event never thought movi could chang way think like plot fantast act superb direct flawless two thumb',\n",
       "       'young woman suffer delus werewolf base upon famili legend ancestor accus kill allegedli one due past treatment men travel countrysid seduc kill men meet fall love kind man life appear take turn better rape lover kill band thug traumat latest event woman return violent way seek reveng thug accord dvd sleev synopsi rino di silvestro la lupa mannara begin full frontal writh moan danc shape blond annik borel daniella neseri mistakenli believ werewolf hottest part camera catch background fire leg open flashback reveal hairi ancestor probabl lycanthrop creatur m borel unfortun werewolf mere strong lunat film werewolf woman english would better borel charact realli femal werewolf sexual victim great bit character far skin blood flick go one hard beat bounci borel either nude sexili clad throughout film featur fair amount gratuit gore dazzl dagmar lassand elena hunki howard ross luca good support player',\n",
       "       ...,\n",
       "       'colleg student studi level need help comment anyon view theme mother film mother whether gone someth similar want comment help research film comment would much greatli appreci comment use sole exam purpos includ written exam view im sure put use could help get also studi boy tadpol seen film well would appreci could leav comment page thank',\n",
       "       'iron although split thoma complet stiff actor film sear memori one side splittingli cheesi incompet movi ever seen actual rather fond still reason get one star thoma great shape fun see tini muscular bodi perform variou feat gymnast skill oddli shape rock pole scatter east european countri side includ infam pommel hors shape well cap middl villag squar thoma use plant foot face variou insan villag let poor guy open mouth tri emot illus might film career immedi dash bit thoma least excus realli actor everyon el film actor director editor camera guy etc least bad even wors profession kurt come quit badli might think hope poor kurt took money ran anyon ever ask perform martial art film bet thoma kick guy face',\n",
       "       'last night finish watch jane eyr bbc mini seri adapt charlott bront gothic romanc novel deservingli classic english literatur timothi dalton favorit jame bond mr edward rochest zelah clark jane eyr poor orphan year old girl gover mr rochest estat thornfield jane eyr one belov book sinc year old girl friend mine gave word book amaz read dozen time still tire beauti languag refin fragrant surprisingli fresh dialog two main charact stori imposs love attract mani filmmak jane eyr adapt tv big screen mani time accord imdb actor famou marvel joan fontain orson well william hurt charlott gainsbourg georg c scott susannah york ciar n hind samantha morton play coupl overcom hundr obstacl made societi law religion differ age background experi fate mistak would hunt one mani year film seen one minut long bbc version follow novel close timothi dalton frequent play dark brood charact play edward rochest brilliantli class mr rochest sardon vibrant forc natur power passion sexi torment master thornfield zelah clark also convinc sweet gentl intellig strong jane feel deepli full passion mix clear reason quiet firm willpow ad septemb last two week seen five jane eyr movi wonder experi someth admir everi adapt jane eyr even complet success version still favorit jane eyr film'],\n",
       "      dtype=object)"
      ]
     },
     "execution_count": 37,
     "metadata": {},
     "output_type": "execute_result"
    }
   ],
   "source": [
    "X_train"
   ]
  },
  {
   "cell_type": "code",
   "execution_count": 38,
   "metadata": {},
   "outputs": [
    {
     "data": {
      "text/plain": [
       "array(['spaceship return mar coupl month earlier person expedit sent red planet pictur flashback transpir pictur saddl inan melodramat dialog typic mani sci fi effort fifti sixti note exampl ship command mohr tell anoth crew member stay reason move anoth spot insid ship caus problem later command order two crew remain ship anoth go outsid two order stay say way follow high hope expedit success point much talk ear twitch hug freez ray gun name cleo short cleopatra cours would least pretti funni unintent stori drag slow pace whole thing astronaut spend much time look ship window portal chang color red blue comment see outsid actual explor martian landscap advertis film cinemag usual resembl anim cut out draw shot orang red filter give illus interact actor take odd surrealist appear due process think fool anyon year old one clever mention notic memori surviv astronaut would ting unreal would explain unreal natur martian vista oh okay amus astronaut action begin explor right bat test freez gun plant kill hell femal member hack machet think tree turn leg spider rat monster nice go ladi look next time wonder intellig mar get upset mind one lower lifeform giant amoeba attack explor act impress mohr especi annoy techniqu say line abruptli erupt huge grin alway creep remind terror beyond space end fairli anti climact expect huge revel beyond expedit freez gun name cleo',\n",
       "       'mani stupid moment tower death game death realli wonder spoof time felt like watch sequel kung pow rather bruce lee film honest film bugger game death anyth sequel remak enter dragon incorpor mani element film particularli actual footag bruce lee charact billi lo appar investig sudden death friend encount piec film left man daughter bodi stolen funer billi also kill wayward brother aveng men death tong long star brother bobbi lo realli sort charisma carri film fight abil good howev bruce lee obvious turn thank longer delet footag simpli cash legaci say whole footag actual edit better game death stop film mess ok fight actual entertain dare say mind blow make film least watchabl mani daft element film realli test patienc first suppos villain live palati estat mental institut serious nutter eat raw venison drink deer blood carri monkey shoulder own peacock lion attempt make look tough intellig make feel sorri half expect someon escort back room fact middl section aw scene involv nake hooker lion suit arriv turn howev finish film kind glad fight scene toward end much like god whole reason watch stori embarrass action good contain excel choreographi even final disappoint premis anyth go told tower death pagoda upsid underground sound great like twist bruce lee origin idea differ style fight level could game death origin plan film name gener room death that far tower goe ye inde one two differ style foil clad grunt leopard skin henchman stupid monk though enter dragon never made plot poor imit worth watch fast pace fight scene stupid sometim hurt intend fine thumb howev recreat projector room scene enter dragon',\n",
       "       'shame saw film unfamiliar helena bonham carter research order assur actual afflict charact well afflict absolut awe beauti ladi pull flawlessli would thought sexual explicit circumst involv final want need uniqu young ladi could interpret tender romant well right perform present proper manner wonder movi forgot mention dynam beauti miss carter look movi often said beauti creatur ever grace face earth seem done particular movi hope watch movi enjoy much thank let express opinion',\n",
       "       ...,\n",
       "       'see much reason get movi much detail sylvest stallon john rambo author survivor season hell recruit prison friend major richard crenna secretli return vietnam take photo american prison believ still held horribl camp return without engag enemi fat chanc actual noth sneak take pic sneak would come see movi essenti celebr stallon muscl prepar mission see well oil muscl bulg oil bulg throughout ritual strap black leather ugli gun even uglier knive black gun clean assembl loud clack almost oil stallon muscl bow test ye enough poundag drive bolt enemi forehead knife sharpen slick snick stallon one pow betray one two suit washington cynic politician bet never even fist fight grammar school gut know sit around foot desk drink foreign beer movi set set meretrici deliber cash myth popular mid uncount number mia quietli kept wretch camp north vietnames bumper sticker ubiquit free mia would keep never quit reason perhap turn pow slave labor forc countri absolut resourc labor mayb propaganda valu instrument humili unit state propaganda weapon vietnames kept secret world captiv rambo treat mediev fashion north vietnames dip neck pig excrement haul wrist muscl still display content subhuman vietnames russian offic brought play part gestapo offic vee haff vay make rememb high tech type russian use psycholog electr pig dump rambo return declar intend drift aimlessli countri love u much love bring anoth myth vet return vietnam uniformli spat upon cur guess elect mani congress appoint other high echelon posit last three lose presidenti candid among despis group least rambo aimless drift left room open sequel arriv apac action movi schwarzenegg willi other leaven wisecrack rambo humorless march dulli phantasm ideolog swamp kill without merci bare speak bare abl speak speak sign weak',\n",
       "       'penultim episod star trek third season excel highlight much malign final season essenti spock mccoy kirk beam sarpeidon find planet popul complet miss except presenc giant librari mr atoz librarian trek charact soon accident walk time travel machin differ period sarpeidon past spock give convinc perform ice age vulcan fall love zarabeth kirk repris unhappi experi time travel see citi edg forev accus witchcraft jail escap find doorway back time sarpeidon present end trek charact save mere minut beta niob star around sarpeidon goe supernova enterpris warp away star explod iron william shatner note book star trek memori show sourc disput sinc leonard nimoy notic reason given lisett script reason spock behav emot way nimoy relay misgiv directli show execut produc fred freiberg vulcan suppos fall love p howev freiberg reason ice age set allow spock experi emot sinc time vulcan still evolv complet logic present state great exampl improvis freiberg part save script far averag particular episod shatner note declin script qualiti third season hurt spock artist sinc charact forc bray like donkey plato stepchild play music hippi way eden sometim display emot script believ spock act excel freiberg candidli admit shatner p obviou plot hole fact sinc spock mccoy travel thousand year back time mccoy revert primit human state spock forgiv error consid poor qualiti mani season show brilliant spock mccoy perform origin script could imagin present inhabit sarpeidon would escap doom planet fate travel past certainli came expect best classic trek genuin inspir stori shatner memori name best unusu high qualiti show season enterpris incid day dove truth beauti tholian web child shall lead paradis syndrom p person opinion child shall lead poor episod truth beauti problemat yesterday certainli belong list top season three star trek to film give yesterday',\n",
       "       'anyon pray sight al cliver wrestl nake ft tall black guy full nelson film arriv film starlet laura crawford ursula buchfelln kidnap group demand ransom million deliv island hideaway count rug vietnam vet peter weston cliver hire film produc save girl realli count local tribe like offer young woman monster cannib god bloodshot bug eye pretti much film set cannib one fare bit better come entertain valu thank mostli hilari dub track imposs goofi monster bulg eye franco confirm split ping pong ball disc interview franco get strong eurocult support cast includ gisela hahn contamin werner pochath whose death one head scratch thing ever seen guy total shown close tri film featur ton nuditi gore tempra paint varieti highlight world slowli fistfight cliver antonio de cabo splash wave sadli ol jess pad one astonish time agon hour minut run minut top part severin dvd look pretti nice odd ghost imag go darker scene also one long section dialog spanish sub option listen french track franco give nice minut interview film much pleasant thing say buchfelln cannib star sabrina siani'],\n",
       "      dtype=object)"
      ]
     },
     "execution_count": 38,
     "metadata": {},
     "output_type": "execute_result"
    }
   ],
   "source": [
    "X_test"
   ]
  },
  {
   "cell_type": "code",
   "execution_count": 39,
   "metadata": {},
   "outputs": [
    {
     "data": {
      "text/plain": [
       "array([1, 1, 0, ..., 1, 0, 1])"
      ]
     },
     "execution_count": 39,
     "metadata": {},
     "output_type": "execute_result"
    }
   ],
   "source": [
    "y_train"
   ]
  },
  {
   "cell_type": "code",
   "execution_count": 40,
   "metadata": {},
   "outputs": [
    {
     "data": {
      "text/plain": [
       "array([0, 0, 1, ..., 0, 1, 0])"
      ]
     },
     "execution_count": 40,
     "metadata": {},
     "output_type": "execute_result"
    }
   ],
   "source": [
    "y_test"
   ]
  },
  {
   "cell_type": "code",
   "execution_count": 44,
   "metadata": {},
   "outputs": [],
   "source": [
    "X_train_split = tfidf.fit_transform(X_train)"
   ]
  },
  {
   "cell_type": "code",
   "execution_count": 45,
   "metadata": {},
   "outputs": [],
   "source": [
    "X_test_split = tfidf.transform(X_test)"
   ]
  },
  {
   "cell_type": "code",
   "execution_count": 49,
   "metadata": {},
   "outputs": [],
   "source": [
    "cos_split = cosine_similarity(X_test_split, X_train_split)"
   ]
  },
  {
   "cell_type": "code",
   "execution_count": 50,
   "metadata": {},
   "outputs": [
    {
     "data": {
      "text/plain": [
       "5000"
      ]
     },
     "execution_count": 50,
     "metadata": {},
     "output_type": "execute_result"
    }
   ],
   "source": [
    "len(cos_split)"
   ]
  },
  {
   "cell_type": "code",
   "execution_count": 41,
   "metadata": {},
   "outputs": [],
   "source": [
    "def KNN(var, k):\n",
    "    \n",
    "    return np.argsort(-var)[:k]\n",
    "     \n",
    "\n",
    "def predict(nbs, labels):\n",
    "    positiveReviewsCount = 0\n",
    "    negativeReviewsCount = 0\n",
    "    for neighbor in nbs:\n",
    "        if int(labels[neighbor]) == 1:\n",
    "            positiveReviewsCount += 1\n",
    "        else:\n",
    "            negativeReviewsCount += 1\n",
    "    if positiveReviewsCount > negativeReviewsCount:\n",
    "        return 1\n",
    "    else:\n",
    "        return -1"
   ]
  },
  {
   "cell_type": "code",
   "execution_count": 147,
   "metadata": {},
   "outputs": [],
   "source": [
    "from sklearn.metrics import f1_score"
   ]
  },
  {
   "cell_type": "markdown",
   "metadata": {},
   "source": [
    "Testing Values from 3 to 201 randomly"
   ]
  },
  {
   "cell_type": "code",
   "execution_count": 198,
   "metadata": {},
   "outputs": [
    {
     "data": {
      "text/plain": [
       "0.8001499812523434"
      ]
     },
     "execution_count": 198,
     "metadata": {},
     "output_type": "execute_result"
    }
   ],
   "source": [
    "k = 3\n",
    "test_sentiments = list()\n",
    "\n",
    "for similarity in cos_split:\n",
    "    knn = KNN(similarity, k)\n",
    "    prediction = predict(knn, y_train)\n",
    "    \n",
    "    #To write to the list as +1 instead of just a 1 for positive reviews\n",
    "    if prediction == 1:\n",
    "        test_sentiments.append('+1')\n",
    "    else:\n",
    "        test_sentiments.append('-1')\n",
    "\n",
    "\n",
    "test_sentiments\n",
    "\n",
    "k = le.fit_transform(test_sentiments)\n",
    "\n",
    "k\n",
    "\n",
    "y_pred_split = 1 - k\n",
    "\n",
    "from sklearn.metrics import f1_score\n",
    "\n",
    "f1 = f1_score(y_test, y_pred_split)\n",
    "\n",
    "f1"
   ]
  },
  {
   "cell_type": "code",
   "execution_count": 185,
   "metadata": {},
   "outputs": [
    {
     "data": {
      "text/plain": [
       "0.8132114200410524"
      ]
     },
     "execution_count": 185,
     "metadata": {},
     "output_type": "execute_result"
    }
   ],
   "source": [
    "k = 7\n",
    "test_sentiments = list()\n",
    "\n",
    "for similarity in cos_split:\n",
    "    knn = KNN(similarity, k)\n",
    "    prediction = predict(knn, y_train)\n",
    "    \n",
    "    #To write to the list as +1 instead of just a 1 for positive reviews\n",
    "    if prediction == 1:\n",
    "        test_sentiments.append('+1')\n",
    "    else:\n",
    "        test_sentiments.append('-1')\n",
    "\n",
    "\n",
    "test_sentiments\n",
    "\n",
    "k = le.fit_transform(test_sentiments)\n",
    "\n",
    "k\n",
    "\n",
    "y_pred_split = 1 - k\n",
    "\n",
    "from sklearn.metrics import f1_score\n",
    "\n",
    "f1 = f1_score(y_test, y_pred_split)\n",
    "\n",
    "f1"
   ]
  },
  {
   "cell_type": "code",
   "execution_count": 186,
   "metadata": {},
   "outputs": [
    {
     "data": {
      "text/plain": [
       "0.819764177428411"
      ]
     },
     "execution_count": 186,
     "metadata": {},
     "output_type": "execute_result"
    }
   ],
   "source": [
    "k = 15\n",
    "test_sentiments = list()\n",
    "\n",
    "for similarity in cos_split:\n",
    "    knn = KNN(similarity, k)\n",
    "    prediction = predict(knn, y_train)\n",
    "    \n",
    "    #To write to the list as +1 instead of just a 1 for positive reviews\n",
    "    if prediction == 1:\n",
    "        test_sentiments.append('+1')\n",
    "    else:\n",
    "        test_sentiments.append('-1')\n",
    "\n",
    "\n",
    "test_sentiments\n",
    "\n",
    "k = le.fit_transform(test_sentiments)\n",
    "\n",
    "k\n",
    "\n",
    "y_pred_split = 1 - k\n",
    "\n",
    "from sklearn.metrics import f1_score\n",
    "\n",
    "f1 = f1_score(y_test, y_pred_split)\n",
    "\n",
    "f1"
   ]
  },
  {
   "cell_type": "code",
   "execution_count": 187,
   "metadata": {},
   "outputs": [
    {
     "data": {
      "text/plain": [
       "0.8148008306588634"
      ]
     },
     "execution_count": 187,
     "metadata": {},
     "output_type": "execute_result"
    }
   ],
   "source": [
    "k = 23\n",
    "test_sentiments = list()\n",
    "\n",
    "for similarity in cos_split:\n",
    "    knn = KNN(similarity, k)\n",
    "    prediction = predict(knn, y_train)\n",
    "    \n",
    "    #To write to the list as +1 instead of just a 1 for positive reviews\n",
    "    if prediction == 1:\n",
    "        test_sentiments.append('+1')\n",
    "    else:\n",
    "        test_sentiments.append('-1')\n",
    "\n",
    "\n",
    "test_sentiments\n",
    "\n",
    "k = le.fit_transform(test_sentiments)\n",
    "\n",
    "k\n",
    "\n",
    "y_pred_split = 1 - k\n",
    "\n",
    "from sklearn.metrics import f1_score\n",
    "\n",
    "f1 = f1_score(y_test, y_pred_split)\n",
    "\n",
    "f1"
   ]
  },
  {
   "cell_type": "code",
   "execution_count": 188,
   "metadata": {},
   "outputs": [
    {
     "data": {
      "text/plain": [
       "0.8181126331811264"
      ]
     },
     "execution_count": 188,
     "metadata": {},
     "output_type": "execute_result"
    }
   ],
   "source": [
    "k = 33\n",
    "test_sentiments = list()\n",
    "\n",
    "for similarity in cos_split:\n",
    "    knn = KNN(similarity, k)\n",
    "    prediction = predict(knn, y_train)\n",
    "    \n",
    "    #To write to the list as +1 instead of just a 1 for positive reviews\n",
    "    if prediction == 1:\n",
    "        test_sentiments.append('+1')\n",
    "    else:\n",
    "        test_sentiments.append('-1')\n",
    "\n",
    "\n",
    "test_sentiments\n",
    "\n",
    "k = le.fit_transform(test_sentiments)\n",
    "\n",
    "k\n",
    "\n",
    "y_pred_split = 1 - k\n",
    "\n",
    "from sklearn.metrics import f1_score\n",
    "\n",
    "f1 = f1_score(y_test, y_pred_split)\n",
    "\n",
    "f1"
   ]
  },
  {
   "cell_type": "code",
   "execution_count": 189,
   "metadata": {},
   "outputs": [
    {
     "data": {
      "text/plain": [
       "0.8182683158896289"
      ]
     },
     "execution_count": 189,
     "metadata": {},
     "output_type": "execute_result"
    }
   ],
   "source": [
    "k = 45\n",
    "test_sentiments = list()\n",
    "\n",
    "for similarity in cos_split:\n",
    "    knn = KNN(similarity, k)\n",
    "    prediction = predict(knn, y_train)\n",
    "    \n",
    "    #To write to the list as +1 instead of just a 1 for positive reviews\n",
    "    if prediction == 1:\n",
    "        test_sentiments.append('+1')\n",
    "    else:\n",
    "        test_sentiments.append('-1')\n",
    "\n",
    "\n",
    "test_sentiments\n",
    "\n",
    "k = le.fit_transform(test_sentiments)\n",
    "\n",
    "k\n",
    "\n",
    "y_pred_split = 1 - k\n",
    "\n",
    "from sklearn.metrics import f1_score\n",
    "\n",
    "f1 = f1_score(y_test, y_pred_split)\n",
    "\n",
    "f1"
   ]
  },
  {
   "cell_type": "code",
   "execution_count": 190,
   "metadata": {},
   "outputs": [
    {
     "data": {
      "text/plain": [
       "0.8203259827420901"
      ]
     },
     "execution_count": 190,
     "metadata": {},
     "output_type": "execute_result"
    }
   ],
   "source": [
    "k = 57\n",
    "test_sentiments = list()\n",
    "\n",
    "for similarity in cos_split:\n",
    "    knn = KNN(similarity, k)\n",
    "    prediction = predict(knn, y_train)\n",
    "    \n",
    "    #To write to the list as +1 instead of just a 1 for positive reviews\n",
    "    if prediction == 1:\n",
    "        test_sentiments.append('+1')\n",
    "    else:\n",
    "        test_sentiments.append('-1')\n",
    "\n",
    "\n",
    "test_sentiments\n",
    "\n",
    "k = le.fit_transform(test_sentiments)\n",
    "\n",
    "k\n",
    "\n",
    "y_pred_split = 1 - k\n",
    "\n",
    "from sklearn.metrics import f1_score\n",
    "\n",
    "f1 = f1_score(y_test, y_pred_split)\n",
    "\n",
    "f1"
   ]
  },
  {
   "cell_type": "code",
   "execution_count": 191,
   "metadata": {},
   "outputs": [
    {
     "data": {
      "text/plain": [
       "0.8247541931752459"
      ]
     },
     "execution_count": 191,
     "metadata": {},
     "output_type": "execute_result"
    }
   ],
   "source": [
    "k = 69\n",
    "test_sentiments = list()\n",
    "\n",
    "for similarity in cos_split:\n",
    "    knn = KNN(similarity, k)\n",
    "    prediction = predict(knn, y_train)\n",
    "    \n",
    "    #To write to the list as +1 instead of just a 1 for positive reviews\n",
    "    if prediction == 1:\n",
    "        test_sentiments.append('+1')\n",
    "    else:\n",
    "        test_sentiments.append('-1')\n",
    "\n",
    "\n",
    "test_sentiments\n",
    "\n",
    "k = le.fit_transform(test_sentiments)\n",
    "\n",
    "k\n",
    "\n",
    "y_pred_split = 1 - k\n",
    "\n",
    "from sklearn.metrics import f1_score\n",
    "\n",
    "f1 = f1_score(y_test, y_pred_split)\n",
    "\n",
    "f1"
   ]
  },
  {
   "cell_type": "code",
   "execution_count": 192,
   "metadata": {},
   "outputs": [
    {
     "data": {
      "text/plain": [
       "0.8247780779621767"
      ]
     },
     "execution_count": 192,
     "metadata": {},
     "output_type": "execute_result"
    }
   ],
   "source": [
    "k = 81\n",
    "test_sentiments = list()\n",
    "\n",
    "for similarity in cos_split:\n",
    "    knn = KNN(similarity, k)\n",
    "    prediction = predict(knn, y_train)\n",
    "    \n",
    "    #To write to the list as +1 instead of just a 1 for positive reviews\n",
    "    if prediction == 1:\n",
    "        test_sentiments.append('+1')\n",
    "    else:\n",
    "        test_sentiments.append('-1')\n",
    "\n",
    "\n",
    "test_sentiments\n",
    "\n",
    "k = le.fit_transform(test_sentiments)\n",
    "\n",
    "k\n",
    "\n",
    "y_pred_split = 1 - k\n",
    "\n",
    "from sklearn.metrics import f1_score\n",
    "\n",
    "f1 = f1_score(y_test, y_pred_split)\n",
    "\n",
    "f1"
   ]
  },
  {
   "cell_type": "code",
   "execution_count": 193,
   "metadata": {},
   "outputs": [
    {
     "data": {
      "text/plain": [
       "0.8255020471826866"
      ]
     },
     "execution_count": 193,
     "metadata": {},
     "output_type": "execute_result"
    }
   ],
   "source": [
    "k = 95\n",
    "test_sentiments = list()\n",
    "\n",
    "for similarity in cos_split:\n",
    "    knn = KNN(similarity, k)\n",
    "    prediction = predict(knn, y_train)\n",
    "    \n",
    "    #To write to the list as +1 instead of just a 1 for positive reviews\n",
    "    if prediction == 1:\n",
    "        test_sentiments.append('+1')\n",
    "    else:\n",
    "        test_sentiments.append('-1')\n",
    "\n",
    "\n",
    "test_sentiments\n",
    "\n",
    "k = le.fit_transform(test_sentiments)\n",
    "\n",
    "k\n",
    "\n",
    "y_pred_split = 1 - k\n",
    "\n",
    "from sklearn.metrics import f1_score\n",
    "\n",
    "f1 = f1_score(y_test, y_pred_split)\n",
    "\n",
    "f1"
   ]
  },
  {
   "cell_type": "code",
   "execution_count": 194,
   "metadata": {},
   "outputs": [
    {
     "data": {
      "text/plain": [
       "0.8263075722092116"
      ]
     },
     "execution_count": 194,
     "metadata": {},
     "output_type": "execute_result"
    }
   ],
   "source": [
    "k = 101\n",
    "test_sentiments = list()\n",
    "\n",
    "for similarity in cos_split:\n",
    "    knn = KNN(similarity, k)\n",
    "    prediction = predict(knn, y_train)\n",
    "    \n",
    "    #To write to the list as +1 instead of just a 1 for positive reviews\n",
    "    if prediction == 1:\n",
    "        test_sentiments.append('+1')\n",
    "    else:\n",
    "        test_sentiments.append('-1')\n",
    "\n",
    "\n",
    "test_sentiments\n",
    "\n",
    "k = le.fit_transform(test_sentiments)\n",
    "\n",
    "k\n",
    "\n",
    "y_pred_split = 1 - k\n",
    "\n",
    "from sklearn.metrics import f1_score\n",
    "\n",
    "f1 = f1_score(y_test, y_pred_split)\n",
    "\n",
    "f1"
   ]
  },
  {
   "cell_type": "code",
   "execution_count": 218,
   "metadata": {},
   "outputs": [
    {
     "data": {
      "text/plain": [
       "0.8262230919765167"
      ]
     },
     "execution_count": 218,
     "metadata": {},
     "output_type": "execute_result"
    }
   ],
   "source": [
    "k = 113\n",
    "test_sentiments = list()\n",
    "\n",
    "for similarity in cos_split:\n",
    "    knn = KNN(similarity, k)\n",
    "    prediction = predict(knn, y_train)\n",
    "    \n",
    "    #To write to the list as +1 instead of just a 1 for positive reviews\n",
    "    if prediction == 1:\n",
    "        test_sentiments.append('+1')\n",
    "    else:\n",
    "        test_sentiments.append('-1')\n",
    "\n",
    "\n",
    "test_sentiments\n",
    "\n",
    "k = le.fit_transform(test_sentiments)\n",
    "\n",
    "k\n",
    "\n",
    "y_pred_split = 1 - k\n",
    "\n",
    "from sklearn.metrics import f1_score\n",
    "\n",
    "f1 = f1_score(y_test, y_pred_split)\n",
    "\n",
    "f1"
   ]
  },
  {
   "cell_type": "code",
   "execution_count": 195,
   "metadata": {},
   "outputs": [
    {
     "data": {
      "text/plain": [
       "0.8276947285601888"
      ]
     },
     "execution_count": 195,
     "metadata": {},
     "output_type": "execute_result"
    }
   ],
   "source": [
    "k = 131\n",
    "test_sentiments = list()\n",
    "\n",
    "for similarity in cos_split:\n",
    "    knn = KNN(similarity, k)\n",
    "    prediction = predict(knn, y_train)\n",
    "    \n",
    "    #To write to the list as +1 instead of just a 1 for positive reviews\n",
    "    if prediction == 1:\n",
    "        test_sentiments.append('+1')\n",
    "    else:\n",
    "        test_sentiments.append('-1')\n",
    "\n",
    "\n",
    "test_sentiments\n",
    "\n",
    "k = le.fit_transform(test_sentiments)\n",
    "\n",
    "k\n",
    "\n",
    "y_pred_split = 1 - k\n",
    "\n",
    "from sklearn.metrics import f1_score\n",
    "\n",
    "f1 = f1_score(y_test, y_pred_split)\n",
    "\n",
    "f1"
   ]
  },
  {
   "cell_type": "code",
   "execution_count": 196,
   "metadata": {},
   "outputs": [
    {
     "data": {
      "text/plain": [
       "0.8277898051564653"
      ]
     },
     "execution_count": 196,
     "metadata": {},
     "output_type": "execute_result"
    }
   ],
   "source": [
    "k = 143\n",
    "test_sentiments = list()\n",
    "\n",
    "for similarity in cos_split:\n",
    "    knn = KNN(similarity, k)\n",
    "    prediction = predict(knn, y_train)\n",
    "    \n",
    "    #To write to the list as +1 instead of just a 1 for positive reviews\n",
    "    if prediction == 1:\n",
    "        test_sentiments.append('+1')\n",
    "    else:\n",
    "        test_sentiments.append('-1')\n",
    "\n",
    "\n",
    "test_sentiments\n",
    "\n",
    "k = le.fit_transform(test_sentiments)\n",
    "\n",
    "k\n",
    "\n",
    "y_pred_split = 1 - k\n",
    "\n",
    "from sklearn.metrics import f1_score\n",
    "\n",
    "f1 = f1_score(y_test, y_pred_split)\n",
    "\n",
    "f1"
   ]
  },
  {
   "cell_type": "code",
   "execution_count": 197,
   "metadata": {},
   "outputs": [
    {
     "data": {
      "text/plain": [
       "0.8268200753818686"
      ]
     },
     "execution_count": 197,
     "metadata": {},
     "output_type": "execute_result"
    }
   ],
   "source": [
    "k = 157\n",
    "test_sentiments = list()\n",
    "\n",
    "for similarity in cos_split:\n",
    "    knn = KNN(similarity, k)\n",
    "    prediction = predict(knn, y_train)\n",
    "    \n",
    "    #To write to the list as +1 instead of just a 1 for positive reviews\n",
    "    if prediction == 1:\n",
    "        test_sentiments.append('+1')\n",
    "    else:\n",
    "        test_sentiments.append('-1')\n",
    "\n",
    "\n",
    "test_sentiments\n",
    "\n",
    "k = le.fit_transform(test_sentiments)\n",
    "\n",
    "k\n",
    "\n",
    "y_pred_split = 1 - k\n",
    "\n",
    "from sklearn.metrics import f1_score\n",
    "\n",
    "f1 = f1_score(y_test, y_pred_split)\n",
    "\n",
    "f1"
   ]
  },
  {
   "cell_type": "code",
   "execution_count": 199,
   "metadata": {},
   "outputs": [
    {
     "data": {
      "text/plain": [
       "0.826900119379228"
      ]
     },
     "execution_count": 199,
     "metadata": {},
     "output_type": "execute_result"
    }
   ],
   "source": [
    "k = 171\n",
    "test_sentiments = list()\n",
    "\n",
    "for similarity in cos_split:\n",
    "    knn = KNN(similarity, k)\n",
    "    prediction = predict(knn, y_train)\n",
    "    \n",
    "    #To write to the list as +1 instead of just a 1 for positive reviews\n",
    "    if prediction == 1:\n",
    "        test_sentiments.append('+1')\n",
    "    else:\n",
    "        test_sentiments.append('-1')\n",
    "\n",
    "\n",
    "test_sentiments\n",
    "\n",
    "k = le.fit_transform(test_sentiments)\n",
    "\n",
    "k\n",
    "\n",
    "y_pred_split = 1 - k\n",
    "\n",
    "from sklearn.metrics import f1_score\n",
    "\n",
    "f1 = f1_score(y_test, y_pred_split)\n",
    "\n",
    "f1"
   ]
  },
  {
   "cell_type": "code",
   "execution_count": 200,
   "metadata": {},
   "outputs": [
    {
     "data": {
      "text/plain": [
       "0.8242132691922229"
      ]
     },
     "execution_count": 200,
     "metadata": {},
     "output_type": "execute_result"
    }
   ],
   "source": [
    "k = 193\n",
    "test_sentiments = list()\n",
    "\n",
    "for similarity in cos_split:\n",
    "    knn = KNN(similarity, k)\n",
    "    prediction = predict(knn, y_train)\n",
    "    \n",
    "    #To write to the list as +1 instead of just a 1 for positive reviews\n",
    "    if prediction == 1:\n",
    "        test_sentiments.append('+1')\n",
    "    else:\n",
    "        test_sentiments.append('-1')\n",
    "\n",
    "\n",
    "test_sentiments\n",
    "\n",
    "k = le.fit_transform(test_sentiments)\n",
    "\n",
    "k\n",
    "\n",
    "y_pred_split = 1 - k\n",
    "\n",
    "from sklearn.metrics import f1_score\n",
    "\n",
    "f1 = f1_score(y_test, y_pred_split)\n",
    "\n",
    "f1"
   ]
  },
  {
   "cell_type": "code",
   "execution_count": 201,
   "metadata": {},
   "outputs": [
    {
     "data": {
      "text/plain": [
       "0.8257469420493284"
      ]
     },
     "execution_count": 201,
     "metadata": {},
     "output_type": "execute_result"
    }
   ],
   "source": [
    "k =201\n",
    "test_sentiments = list()\n",
    "\n",
    "for similarity in cos_split:\n",
    "    knn = KNN(similarity, k)\n",
    "    prediction = predict(knn, y_train)\n",
    "    \n",
    "    #To write to the list as +1 instead of just a 1 for positive reviews\n",
    "    if prediction == 1:\n",
    "        test_sentiments.append('+1')\n",
    "    else:\n",
    "        test_sentiments.append('-1')\n",
    "\n",
    "\n",
    "test_sentiments\n",
    "\n",
    "k = le.fit_transform(test_sentiments)\n",
    "\n",
    "k\n",
    "\n",
    "y_pred_split = 1 - k\n",
    "\n",
    "from sklearn.metrics import f1_score\n",
    "\n",
    "f1 = f1_score(y_test, y_pred_split)\n",
    "\n",
    "f1"
   ]
  },
  {
   "cell_type": "code",
   "execution_count": 204,
   "metadata": {},
   "outputs": [
    {
     "data": {
      "text/plain": [
       "0.8257469420493284"
      ]
     },
     "execution_count": 204,
     "metadata": {},
     "output_type": "execute_result"
    }
   ],
   "source": [
    "k =201\n",
    "test_sentiments = list()\n",
    "\n",
    "for similarity in cos_split:\n",
    "    knn = KNN(similarity, k)\n",
    "    prediction = predict(knn, y_train)\n",
    "    \n",
    "    #To write to the list as +1 instead of just a 1 for positive reviews\n",
    "    if prediction == 1:\n",
    "        test_sentiments.append('+1')\n",
    "    else:\n",
    "        test_sentiments.append('-1')\n",
    "\n",
    "\n",
    "test_sentiments\n",
    "\n",
    "k = le.fit_transform(test_sentiments)\n",
    "\n",
    "k\n",
    "\n",
    "y_pred_split = 1 - k\n",
    "\n",
    "from sklearn.metrics import f1_score\n",
    "\n",
    "f1 = f1_score(y_test, y_pred_split)\n",
    "\n",
    "f1"
   ]
  },
  {
   "cell_type": "markdown",
   "metadata": {},
   "source": [
    "Thus, the maximum value is '0.827' for k = 143"
   ]
  }
 ],
 "metadata": {
  "kernelspec": {
   "display_name": "Python 3",
   "language": "python",
   "name": "python3"
  },
  "language_info": {
   "codemirror_mode": {
    "name": "ipython",
    "version": 3
   },
   "file_extension": ".py",
   "mimetype": "text/x-python",
   "name": "python",
   "nbconvert_exporter": "python",
   "pygments_lexer": "ipython3",
   "version": "3.7.3"
  }
 },
 "nbformat": 4,
 "nbformat_minor": 2
}
